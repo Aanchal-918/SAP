{
 "cells": [
  {
   "cell_type": "markdown",
   "id": "c224c98e",
   "metadata": {},
   "source": [
    "# A family of 10 people , during a flood 6 people goes with the flood and they stop at a safe destination till the flood stops or the calamity is normalized.When they  come back , there are 3 more people with them."
   ]
  },
  {
   "cell_type": "code",
   "execution_count": null,
   "id": "264ed362",
   "metadata": {},
   "outputs": [],
   "source": [
    "import random"
   ]
  },
  {
   "cell_type": "markdown",
   "id": "6b259ba5",
   "metadata": {},
   "source": [
    "# Way 1 to represent"
   ]
  },
  {
   "cell_type": "code",
   "execution_count": 2,
   "id": "b128e818",
   "metadata": {},
   "outputs": [
    {
     "name": "stdout",
     "output_type": "stream",
     "text": [
      "['Ayush', 'Pranay', 'Emma', 'Kriti', 'John', 'Sarah', 'Mike', 'Linda', 'David', 'Sophie']\n"
     ]
    }
   ],
   "source": [
    "# List of family members\n",
    "\n",
    "family = [\"Ayush\", \"Pranay\", \"Emma\", \"Kriti\", \"John\", \"Sarah\", \"Mike\", \"Linda\", \"David\", \"Sophie\"]\n",
    "print(family)"
   ]
  },
  {
   "cell_type": "code",
   "execution_count": 4,
   "id": "a840ee05",
   "metadata": {},
   "outputs": [
    {
     "name": "stdout",
     "output_type": "stream",
     "text": [
      "Family members after the flood:\n",
      "Mike\n",
      "Ayush\n",
      "John\n",
      "Linda\n",
      "Sophie\n",
      "David\n",
      "Pranay\n",
      "Kriti\n",
      "Emma\n",
      "Sarah\n",
      "Tom\n",
      "Grace\n",
      "Oliver\n"
     ]
    }
   ],
   "source": [
    "# Simulate 6 people going with the flood\n",
    "people_with_flood = random.sample(family, 6)\n",
    "\n",
    "# Simulate 3 more people joining the group when they return\n",
    "new_members = [\"Tom\", \"Grace\", \"Oliver\"]\n",
    "people_with_flood += new_members\n",
    "\n",
    "# List of people after the flood\n",
    "people_after_flood = list(set(family) - set(people_with_flood)) + people_with_flood\n",
    "\n",
    "# Print the final list of people\n",
    "print(\"Family members after the flood:\")\n",
    "for person in people_after_flood:\n",
    "    print(person)"
   ]
  },
  {
   "cell_type": "markdown",
   "id": "231089e6",
   "metadata": {},
   "source": [
    "# Another way to represent the same"
   ]
  },
  {
   "cell_type": "code",
   "execution_count": 5,
   "id": "2ee13257",
   "metadata": {},
   "outputs": [
    {
     "name": "stdout",
     "output_type": "stream",
     "text": [
      "1. Family Members:\n",
      "Ayush\n",
      "Pranay\n",
      "Emma\n",
      "Kriti\n",
      "John\n",
      "Lisa\n",
      "David\n",
      "Sarah\n",
      "Michael\n",
      "Sophia\n",
      "\n",
      "2. a. People Gone Missing During the Flood:\n",
      "Ayush\n",
      "Pranay\n",
      "Emma\n",
      "Kriti\n",
      "John\n",
      "Lisa\n",
      "\n",
      "2. b. Family Members Left After the Flood:\n",
      "David\n",
      "Sarah\n",
      "Michael\n",
      "Sophia\n",
      "\n",
      "3. a. Family Members After People Returned:\n",
      "David\n",
      "Sarah\n",
      "Michael\n",
      "Sophia\n",
      "Oliver\n",
      "Mia\n",
      "Ethan\n",
      "\n",
      "3. b. People Returned With Them:\n",
      "Oliver\n",
      "Mia\n",
      "Ethan\n"
     ]
    }
   ],
   "source": [
    "# Create a list of family members\n",
    "family_members = [\"Ayush\", \"Pranay\", \"Emma\", \"Kriti\", \"John\", \"Lisa\", \"David\", \"Sarah\", \"Michael\", \"Sophia\"]\n",
    "\n",
    "# Simulate the flood scenario\n",
    "# During the flood, 6 people go with the flood\n",
    "missing_people = family_members[:6]\n",
    "remaining_family = family_members[6:]\n",
    "\n",
    "# After the flood, 3 more people join\n",
    "returned_people = [\"Oliver\", \"Mia\", \"Ethan\"]\n",
    "family_members_after_return = remaining_family + returned_people\n",
    "\n",
    "# Print the required information\n",
    "print(\"1. Family Members:\")\n",
    "for member in family_members:\n",
    "    print(member)\n",
    "\n",
    "print(\"\\n2. a. People Gone Missing During the Flood:\")\n",
    "for member in missing_people:\n",
    "    print(member)\n",
    "\n",
    "print(\"\\n2. b. Family Members Left After the Flood:\")\n",
    "for member in remaining_family:\n",
    "    print(member)\n",
    "\n",
    "print(\"\\n3. a. Family Members After People Returned:\")\n",
    "for member in family_members_after_return:\n",
    "    print(member)\n",
    "\n",
    "print(\"\\n3. b. People Returned With Them:\")\n",
    "for member in returned_people:\n",
    "    print(member)\n"
   ]
  },
  {
   "cell_type": "code",
   "execution_count": null,
   "id": "fdab8975",
   "metadata": {},
   "outputs": [],
   "source": []
  }
 ],
 "metadata": {
  "kernelspec": {
   "display_name": "Python 3 (ipykernel)",
   "language": "python",
   "name": "python3"
  },
  "language_info": {
   "codemirror_mode": {
    "name": "ipython",
    "version": 3
   },
   "file_extension": ".py",
   "mimetype": "text/x-python",
   "name": "python",
   "nbconvert_exporter": "python",
   "pygments_lexer": "ipython3",
   "version": "3.11.4"
  }
 },
 "nbformat": 4,
 "nbformat_minor": 5
}
